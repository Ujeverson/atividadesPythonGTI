{
 "cells": [
  {
   "cell_type": "markdown",
   "metadata": {},
   "source": [
    "# Funções em Python"
   ]
  },
  {
   "cell_type": "code",
   "execution_count": 2,
   "metadata": {},
   "outputs": [
    {
     "name": "stdout",
     "output_type": "stream",
     "text": [
      "Ujeverson Tavares\n"
     ]
    }
   ],
   "source": [
    "def nome_sobrenome(Pnome, Unome):\n",
    "    print(Pnome + \" \" + Unome)\n",
    "\n",
    "nome_sobrenome(\"Ujeverson\",\"Tavares\")"
   ]
  },
  {
   "cell_type": "code",
   "execution_count": 3,
   "metadata": {},
   "outputs": [
    {
     "ename": "TypeError",
     "evalue": "nome_sobrenome() missing 1 required positional argument: 'Unome'",
     "output_type": "error",
     "traceback": [
      "\u001b[1;31m---------------------------------------------------------------------------\u001b[0m",
      "\u001b[1;31mTypeError\u001b[0m                                 Traceback (most recent call last)",
      "Cell \u001b[1;32mIn[3], line 1\u001b[0m\n\u001b[1;32m----> 1\u001b[0m \u001b[43mnome_sobrenome\u001b[49m\u001b[43m(\u001b[49m\u001b[38;5;124;43m\"\u001b[39;49m\u001b[38;5;124;43mUjeverson\u001b[39;49m\u001b[38;5;124;43m\"\u001b[39;49m\u001b[43m)\u001b[49m\n",
      "\u001b[1;31mTypeError\u001b[0m: nome_sobrenome() missing 1 required positional argument: 'Unome'"
     ]
    }
   ],
   "source": [
    "nome_sobrenome(\"Ujeverson\")"
   ]
  },
  {
   "cell_type": "code",
   "execution_count": 6,
   "metadata": {},
   "outputs": [
    {
     "name": "stdout",
     "output_type": "stream",
     "text": [
      "A(o) criança mais velha(O) é o Ícaro\n"
     ]
    }
   ],
   "source": [
    "#função com vários argumentos\n",
    "def any_args(*kids):\n",
    "    print(\"A(o) criança mais velha(O) é o \"+ kids[1])\n",
    "\n",
    "any_args(\"Ana Clara\", \"Ícaro\", \"Sofia\")"
   ]
  },
  {
   "cell_type": "code",
   "execution_count": 12,
   "metadata": {},
   "outputs": [
    {
     "data": {
      "text/plain": [
       "40320"
      ]
     },
     "execution_count": 12,
     "metadata": {},
     "output_type": "execute_result"
    }
   ],
   "source": [
    "def fatorial(x):\n",
    "    if x < 0:\n",
    "        print(\"Não tem fatorial para número negativo!\")\n",
    "    elif x == 0:\n",
    "        return 1\n",
    "    else:\n",
    "        fat = 1\n",
    "        while(x > 1):\n",
    "            fat *= x\n",
    "            x -= 1\n",
    "        return fat\n",
    "\n",
    "x = int(input(\"Digite o número para calcular o fatorial\"))\n",
    "fatorial(x)"
   ]
  },
  {
   "cell_type": "code",
   "execution_count": null,
   "metadata": {},
   "outputs": [],
   "source": [
    "def ficha(jogador = 'desconhecido', gol = 0):\n",
    "    print('O jogador', jogador, 'fez', gol, 'gol(s) no campeonato.')"
   ]
  },
  {
   "cell_type": "code",
   "execution_count": null,
   "metadata": {},
   "outputs": [
    {
     "name": "stdout",
     "output_type": "stream",
     "text": [
      "O jogador Ujeverson fez 8 gol(s) no campeonato\n"
     ]
    }
   ],
   "source": [
    "name = str(input(\"Qual o nome do jogador? \"))\n",
    "gol = str(input(\"Quantos gols o jogador fez? \"))\n",
    "\n",
    "if gol.isnumeric():\n",
    "    gol = int(gol)  # Correção aqui\n",
    "else:\n",
    "    gol = 0\n",
    "\n",
    "if name.strip() == '':\n",
    "    ficha(gol = gol)\n",
    "else:\n",
    "    ficha(name, gol)"
   ]
  },
  {
   "cell_type": "code",
   "execution_count": 22,
   "metadata": {},
   "outputs": [
    {
     "data": {
      "text/plain": [
       "25"
      ]
     },
     "execution_count": 22,
     "metadata": {},
     "output_type": "execute_result"
    }
   ],
   "source": [
    "potencia = lambda x : x**2\n",
    "\n",
    "potencia(5)"
   ]
  },
  {
   "cell_type": "code",
   "execution_count": 30,
   "metadata": {},
   "outputs": [
    {
     "name": "stdout",
     "output_type": "stream",
     "text": [
      "As raízes da equação são: x'= -0.45  e x''= 4.45\n"
     ]
    }
   ],
   "source": [
    "#Função raízes de uma equação de segundo grau.\n",
    "from math import sqrt\n",
    "\n",
    "\n",
    "def raizes(a, b, c):\n",
    "    delta = b**2 - 4*a*c\n",
    "    \n",
    "    if delta < 0:\n",
    "        print (\"A equação não tem raíz real\")\n",
    "    else:\n",
    "        x1 = (-b + delta**(1/2))/(2*a)\n",
    "        x2 = (-b - delta**(1/2))/(2*a)\n",
    "        x1 = round(x1,2)\n",
    "        x2 = round(x2,2)\n",
    "        #x1 = (-b + sqrt(delta))/(2*a)\n",
    "        #x2 = (-b - sqrt(delta))/(2*a)\n",
    "        print(\"As raízes da equação são: x'=\",x1,\" e x''=\",x2)\n",
    "\n",
    "a = int(input(\"Digite o valor do coeficiente a.\"))\n",
    "b = int(input(\"Digite o valor do coeficiente b.\"))\n",
    "c = int(input(\"Digite o valor do coeficiente c.\"))\n",
    "raizes(a,b,c)"
   ]
  },
  {
   "cell_type": "code",
   "execution_count": null,
   "metadata": {},
   "outputs": [],
   "source": []
  }
 ],
 "metadata": {
  "kernelspec": {
   "display_name": "Python 3",
   "language": "python",
   "name": "python3"
  },
  "language_info": {
   "codemirror_mode": {
    "name": "ipython",
    "version": 3
   },
   "file_extension": ".py",
   "mimetype": "text/x-python",
   "name": "python",
   "nbconvert_exporter": "python",
   "pygments_lexer": "ipython3",
   "version": "3.12.6"
  }
 },
 "nbformat": 4,
 "nbformat_minor": 4
}
