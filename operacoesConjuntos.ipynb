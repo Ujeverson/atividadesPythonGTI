{
 "cells": [
  {
   "cell_type": "code",
   "execution_count": 1,
   "metadata": {},
   "outputs": [
    {
     "name": "stdout",
     "output_type": "stream",
     "text": [
      "A ∪ B =  {0, 1, 2, 3, 4, 5}\n"
     ]
    }
   ],
   "source": [
    "#Dados A = {0, 1, 2, 3} e B = {2, 3, 4, 5}, determine A ∪ B.\n",
    "\n",
    "A = {0, 1, 2, 3}\n",
    "B = {2, 3, 4, 5}\n",
    "C = A|B # A ∪ B\n",
    "print(\"A ∪ B = \", C)"
   ]
  },
  {
   "cell_type": "code",
   "execution_count": 2,
   "metadata": {},
   "outputs": [
    {
     "name": "stdout",
     "output_type": "stream",
     "text": [
      "A - B =  {0, 2, 5}\n",
      "B - A =  {1, 3, 6, -2}\n"
     ]
    }
   ],
   "source": [
    "#Dados A = {- 1, 0, 2, 4, 5} e B = {- 2, - 1, 1, 3, 4, 6}, determine A - B e B - A\n",
    "A = {-1, 0, 2, 4, 5}\n",
    "B = {-2, -1, 1, 3, 4, 6}\n",
    "C = A - B # A menos B\n",
    "D = B - A # B menos A\n",
    "print(\"A - B = \", C)\n",
    "print(\"B - A = \", D)"
   ]
  },
  {
   "cell_type": "code",
   "execution_count": null,
   "metadata": {},
   "outputs": [],
   "source": []
  }
 ],
 "metadata": {
  "kernelspec": {
   "display_name": "Python 3",
   "language": "python",
   "name": "python3"
  },
  "language_info": {
   "codemirror_mode": {
    "name": "ipython",
    "version": 3
   },
   "file_extension": ".py",
   "mimetype": "text/x-python",
   "name": "python",
   "nbconvert_exporter": "python",
   "pygments_lexer": "ipython3",
   "version": "3.13.2"
  }
 },
 "nbformat": 4,
 "nbformat_minor": 2
}
