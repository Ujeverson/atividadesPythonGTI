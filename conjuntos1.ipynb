{
 "cells": [
  {
   "cell_type": "code",
   "execution_count": 2,
   "metadata": {
    "id": "86aWnimNQI5i"
   },
   "outputs": [],
   "source": [
    "naturais = {0, 1, 2, 3, 4, 5}\n",
    "inteiros = {-3, -2, -1, 0, 1, 2, 3}\n",
    "racionais = {0.5, -2.3, 1.75}\n",
    "reais = {3.14, -1.414, 2.718}"
   ]
  },
  {
   "cell_type": "code",
   "execution_count": 3,
   "metadata": {
    "colab": {
     "base_uri": "https://localhost:8080/"
    },
    "id": "bqA-2LUZRtTc",
    "outputId": "1e2af868-96a7-490c-cca6-3fd5e4ef5326"
   },
   "outputs": [
    {
     "name": "stdout",
     "output_type": "stream",
     "text": [
      "Conjunto de números naturais: {0, 1, 2, 3, 4, 5}\n",
      "Conjunto de números inteiros: {0, 1, 2, 3, -1, -3, -2}\n",
      "Conjunto de números racionais: {0.5, 1.75, -2.3}\n",
      "Conjunto de números reais: {2.718, 3.14, -1.414}\n"
     ]
    }
   ],
   "source": [
    "print(\"Conjunto de números naturais:\", naturais)\n",
    "print(\"Conjunto de números inteiros:\", inteiros)\n",
    "print(\"Conjunto de números racionais:\", racionais)\n",
    "print(\"Conjunto de números reais:\", reais)"
   ]
  },
  {
   "cell_type": "code",
   "execution_count": 4,
   "metadata": {
    "colab": {
     "base_uri": "https://localhost:8080/"
    },
    "id": "bk1G5p14UKl7",
    "outputId": "1b06075b-6f69-4001-8430-6b594cd0a88f"
   },
   "outputs": [
    {
     "name": "stdout",
     "output_type": "stream",
     "text": [
      "União de A e B: (*uniao) \n",
      " {1, 2, 3, 4, 5, 6, 7, 8, 9, 10, 11}\n",
      "União de A e B: (*C) \n",
      " {1, 2, 3, 4, 5, 6, 7, 8, 9, 10, 11}\n"
     ]
    }
   ],
   "source": [
    "A = {1, 2, 3, 4, 5, 6, 7}\n",
    "B = {5, 6, 7, 8, 9, 10, 11}\n",
    "\n",
    "# i) União entre os conjuntos\n",
    "C = A | B\n",
    "uniao = A.union(B)\n",
    "print(\"União de A e B: (*uniao) \\n\", uniao)\n",
    "print(\"União de A e B: (*C) \\n\", C)"
   ]
  },
  {
   "cell_type": "code",
   "execution_count": 5,
   "metadata": {
    "colab": {
     "base_uri": "https://localhost:8080/"
    },
    "id": "rYI8NCh1Wgnq",
    "outputId": "67e7b878-31d3-4262-8732-7cd4a217b619"
   },
   "outputs": [
    {
     "name": "stdout",
     "output_type": "stream",
     "text": [
      "Intersecção de A e B com 'intersection' : {5, 6, 7}\n",
      "Intersecção de A e B com '&' : {5, 6, 7}\n"
     ]
    }
   ],
   "source": [
    "# ii) Intersecção entre os conjuntos\n",
    "D = A & B\n",
    "interseccao = A.intersection(B)\n",
    "print(\"Intersecção de A e B com 'intersection' :\", interseccao)\n",
    "print(\"Intersecção de A e B com '&' :\", D)"
   ]
  },
  {
   "cell_type": "code",
   "execution_count": 6,
   "metadata": {
    "colab": {
     "base_uri": "https://localhost:8080/"
    },
    "id": "MgFMDq0ZWjUr",
    "outputId": "a0479d34-a7f8-4984-fe37-878fc632bf12"
   },
   "outputs": [
    {
     "name": "stdout",
     "output_type": "stream",
     "text": [
      "Diferença entre A e B: {1, 2, 3, 4}\n",
      "{1, 2, 3, 4}\n",
      "Diferença entre B e A: {8, 9, 10, 11}\n",
      "{8, 9, 10, 11}\n",
      "modificar\n"
     ]
    }
   ],
   "source": [
    "# iii) Diferença entre A e B e B e A\n",
    "E = A - B\n",
    "diferenca_A_B = A.difference(B)\n",
    "print(\"Diferença entre A e B:\", diferenca_A_B)\n",
    "print(E)\n",
    "\n",
    "F = B - A\n",
    "diferenca_B_A = B.difference(A)\n",
    "print(\"Diferença entre B e A:\", diferenca_B_A)\n",
    "print(F)\n",
    "print(\"modificar\")"
   ]
  },
  {
   "cell_type": "code",
   "execution_count": 1,
   "metadata": {},
   "outputs": [
    {
     "name": "stdout",
     "output_type": "stream",
     "text": [
      "linha nova\n"
     ]
    }
   ],
   "source": [
    "print(\"linha nova\")"
   ]
  },
  {
   "cell_type": "code",
   "execution_count": null,
   "metadata": {},
   "outputs": [],
   "source": []
  }
 ],
 "metadata": {
  "colab": {
   "provenance": []
  },
  "kernelspec": {
   "display_name": "Python 3 (ipykernel)",
   "language": "python",
   "name": "python3"
  },
  "language_info": {
   "codemirror_mode": {
    "name": "ipython",
    "version": 3
   },
   "file_extension": ".py",
   "mimetype": "text/x-python",
   "name": "python",
   "nbconvert_exporter": "python",
   "pygments_lexer": "ipython3",
   "version": "3.13.2"
  }
 },
 "nbformat": 4,
 "nbformat_minor": 4
}
