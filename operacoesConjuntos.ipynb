{
 "cells": [
  {
   "cell_type": "markdown",
   "metadata": {},
   "source": [
    "### Respostas da questão 1"
   ]
  },
  {
   "cell_type": "code",
   "execution_count": 9,
   "metadata": {},
   "outputs": [
    {
     "name": "stdout",
     "output_type": "stream",
     "text": [
      "A ∪ B =  {0, 1, 2, 3, 4, 5}\n"
     ]
    }
   ],
   "source": [
    "#a) Dados A = {0, 1, 2, 3} e B = {2, 3, 4, 5}, determine A ∪ B.\n",
    "\n",
    "A = {0, 1, 2, 3}\n",
    "B = {2, 3, 4, 5}\n",
    "C = A|B # A ∪ B\n",
    "print(\"A ∪ B = \", C)"
   ]
  },
  {
   "cell_type": "code",
   "execution_count": 10,
   "metadata": {},
   "outputs": [
    {
     "name": "stdout",
     "output_type": "stream",
     "text": [
      "A - B =  {0, 2, 5}\n",
      "B - A =  {1, 3, 6, -2}\n"
     ]
    }
   ],
   "source": [
    "#b) Dados A = {- 1, 0, 2, 4, 5} e B = {- 2, - 1, 1, 3, 4, 6}, determine A - B e B - A\n",
    "A = {-1, 0, 2, 4, 5}\n",
    "B = {-2, -1, 1, 3, 4, 6}\n",
    "C = A - B # A menos B\n",
    "D = B - A # B menos A\n",
    "print(\"A - B = \", C)\n",
    "print(\"B - A = \", D)"
   ]
  },
  {
   "cell_type": "code",
   "execution_count": null,
   "metadata": {},
   "outputs": [
    {
     "data": {
      "text/plain": [
       "{4}"
      ]
     },
     "execution_count": 13,
     "metadata": {},
     "output_type": "execute_result"
    }
   ],
   "source": [
    "#c) Considere os conjuntos 𝐴 = {0,1,2,3,4,5,6},𝐵 = {1,2},𝐶 = {2,3,4} 𝑒 𝐷 = {4,5}, determine\n",
    "#(𝐴 − 𝐵) ∩ (𝐶 ∩ 𝐷).\n",
    "𝐴 = {0,1,2,3,4,5,6}\n",
    "𝐵 = {1,2}\n",
    "𝐶 = {2,3,4}\n",
    "𝐷 = {4,5}\n",
    "\n",
    "E = A - B\n",
    "F = C & D\n",
    "G = E & F\n",
    "G"
   ]
  },
  {
   "cell_type": "markdown",
   "metadata": {},
   "source": [
    "### Respostas da questão 2"
   ]
  },
  {
   "cell_type": "code",
   "execution_count": null,
   "metadata": {},
   "outputs": [
    {
     "name": "stdout",
     "output_type": "stream",
     "text": [
      "B ∪ A = C é F\n"
     ]
    }
   ],
   "source": [
    "#Considerando os conjuntos A = {0, 1, 2, 3}, B = {- 2, - 1, 0, 1, 2} e C = {- 1, 0, 1, 2, 3, 4, 5}, analise cada afirmação como verdadeira (V) ou falsa (F).\n",
    "A = {0, 1, 2, 3}\n",
    "B = {-2, -1, 0, 1, 2}\n",
    "C = {-1, 0, 1, 2, 3, 4, 5}\n",
    "\n",
    "#a) 𝐵∪𝐴=𝐶 -> A | B == C\n",
    "\n",
    "if B | A == C:\n",
    "    print(\"B ∪ A = C é V\")\n",
    "else:\n",
    "    print(\"B ∪ A = C é F\")"
   ]
  },
  {
   "cell_type": "code",
   "execution_count": null,
   "metadata": {},
   "outputs": [],
   "source": [
    "# b)𝐴∩𝐵={0,1,2} -> A & B == {0,1,2}\n"
   ]
  }
 ],
 "metadata": {
  "kernelspec": {
   "display_name": "Python 3",
   "language": "python",
   "name": "python3"
  },
  "language_info": {
   "codemirror_mode": {
    "name": "ipython",
    "version": 3
   },
   "file_extension": ".py",
   "mimetype": "text/x-python",
   "name": "python",
   "nbconvert_exporter": "python",
   "pygments_lexer": "ipython3",
   "version": "3.13.2"
  }
 },
 "nbformat": 4,
 "nbformat_minor": 2
}
