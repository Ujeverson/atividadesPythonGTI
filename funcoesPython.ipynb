{
 "cells": [
  {
   "cell_type": "code",
   "execution_count": 1,
   "id": "46b29892-b2a2-429c-8d80-4ffb04df45db",
   "metadata": {},
   "outputs": [],
   "source": [
    "def olaMundo ():\n",
    "    print('Olá Mundo!')"
   ]
  },
  {
   "cell_type": "code",
   "execution_count": 2,
   "id": "8e6f550a-bd1b-4d98-adb2-29f1f702dc0d",
   "metadata": {},
   "outputs": [
    {
     "name": "stdout",
     "output_type": "stream",
     "text": [
      "Olá Mundo!\n"
     ]
    }
   ],
   "source": [
    "olaMundo()"
   ]
  },
  {
   "cell_type": "code",
   "execution_count": 12,
   "id": "ae89ff45-bd3f-4d83-8c66-9a3afb6edefa",
   "metadata": {},
   "outputs": [],
   "source": [
    "def funcaoUm (nome):\n",
    "    print ('Seu nome é %s' %(nome))"
   ]
  },
  {
   "cell_type": "code",
   "execution_count": 14,
   "id": "427b1d37-6534-4db0-819c-83c70754b98f",
   "metadata": {},
   "outputs": [
    {
     "name": "stdin",
     "output_type": "stream",
     "text": [
      "Digite seu nome: Ujeverson\n"
     ]
    }
   ],
   "source": [
    "x = input(\"Digite seu nome:\")"
   ]
  },
  {
   "cell_type": "code",
   "execution_count": 15,
   "id": "3d8f262a-3e2b-4aa4-9f4e-c46a5b27b8c4",
   "metadata": {},
   "outputs": [
    {
     "name": "stdin",
     "output_type": "stream",
     "text": [
      "Digite seu nome: Ujeverson\n"
     ]
    },
    {
     "name": "stdout",
     "output_type": "stream",
     "text": [
      "Seu nome é Ujeverson\n"
     ]
    }
   ],
   "source": [
    "funcaoUm(input(\"Digite seu nome:\"))"
   ]
  },
  {
   "cell_type": "code",
   "execution_count": 16,
   "id": "235d1294-43ab-4e9a-916e-8d7a5e68a184",
   "metadata": {},
   "outputs": [
    {
     "name": "stdout",
     "output_type": "stream",
     "text": [
      "Seu nome é Ujeverson\n"
     ]
    }
   ],
   "source": [
    "funcaoUm(x)"
   ]
  },
  {
   "cell_type": "code",
   "execution_count": 17,
   "id": "1df9f3f3-6fba-4b5f-943d-8c761ce7f735",
   "metadata": {},
   "outputs": [],
   "source": [
    "def funcaoDois():\n",
    "    for i in range(0, 5):\n",
    "        print (\"Número:\" + str(i))"
   ]
  },
  {
   "cell_type": "code",
   "execution_count": 18,
   "id": "ec7d835d-98af-4d40-9baf-b4080607c883",
   "metadata": {},
   "outputs": [
    {
     "name": "stdout",
     "output_type": "stream",
     "text": [
      "Número:0\n",
      "Número:1\n",
      "Número:2\n",
      "Número:3\n",
      "Número:4\n"
     ]
    }
   ],
   "source": [
    "funcaoDois()"
   ]
  },
  {
   "cell_type": "code",
   "execution_count": 34,
   "id": "086eec5a-e1af-4df7-9839-f832cb56c167",
   "metadata": {},
   "outputs": [],
   "source": [
    "def notas ():\n",
    "    n1 = float(input(\"Digite a N1\"))\n",
    "    n2 = float(input(\"Digite a N2\"))\n",
    "    n3 = float(input(\"Digite a N3\"))\n",
    "\n",
    "    media = round((n1+ n2 + n3)/3, 1)\n",
    "    print (\"Sua média é\", media)"
   ]
  },
  {
   "cell_type": "code",
   "execution_count": 35,
   "id": "dbd66b8d-a458-4fe6-b497-2cb47a513d17",
   "metadata": {},
   "outputs": [
    {
     "name": "stdin",
     "output_type": "stream",
     "text": [
      "Digite a N1 5\n",
      "Digite a N2 5\n",
      "Digite a N3 8\n"
     ]
    },
    {
     "name": "stdout",
     "output_type": "stream",
     "text": [
      "Sua média é 6.0\n"
     ]
    }
   ],
   "source": [
    "notas()"
   ]
  },
  {
   "cell_type": "code",
   "execution_count": 36,
   "id": "3ef25bec-8188-41bd-9a65-9ec0cd69f688",
   "metadata": {},
   "outputs": [],
   "source": [
    "import statistics as st\n",
    "def notas1 ():\n",
    "    n1 = float(input(\"Digite a N1\"))\n",
    "    n2 = float(input(\"Digite a N2\"))\n",
    "    n3 = float(input(\"Digite a N3\"))\n",
    "\n",
    "    valor = [n1,n2,n3]\n",
    "\n",
    "    media = round(st.mean(valor), 1)\n",
    "    print (\"Sua média é\", media)"
   ]
  },
  {
   "cell_type": "code",
   "execution_count": 37,
   "id": "37e871e2-6d52-4778-9c8a-9fa107d1ead3",
   "metadata": {},
   "outputs": [
    {
     "name": "stdin",
     "output_type": "stream",
     "text": [
      "Digite a N1 7\n",
      "Digite a N2 8\n",
      "Digite a N3 4\n"
     ]
    },
    {
     "name": "stdout",
     "output_type": "stream",
     "text": [
      "Sua média é 6.3\n"
     ]
    }
   ],
   "source": [
    "notas1()"
   ]
  },
  {
   "cell_type": "code",
   "execution_count": 43,
   "id": "9c7bc8d5-2e74-470c-b704-1631251a4a79",
   "metadata": {},
   "outputs": [],
   "source": [
    "import statistics as st\n",
    "def notas2 ():\n",
    "    n1 = float(input(\"Digite a N1\"))\n",
    "    n2 = float(input(\"Digite a N2\"))\n",
    "    n3 = float(input(\"Digite a N3\"))\n",
    "\n",
    "    valor = [n1,n2,n3]\n",
    "\n",
    "    media = round(st.mean(valor), 1)\n",
    "    return media"
   ]
  },
  {
   "cell_type": "code",
   "execution_count": 46,
   "id": "d5a0e56b-05ce-407e-a570-5c8896617278",
   "metadata": {},
   "outputs": [
    {
     "name": "stdin",
     "output_type": "stream",
     "text": [
      "Digite a N1 5\n",
      "Digite a N2 6\n",
      "Digite a N3 7\n"
     ]
    }
   ],
   "source": [
    "x = notas2()\n",
    "def resultado(x):\n",
    "    \n",
    "    if x >= 6:\n",
    "        print(\"Aprovado com nota:\", x)\n",
    "    elif x > 4 or x<6:\n",
    "        print(\"Recuperação com nota\", x)\n",
    "    else:\n",
    "        print(\"Retido com nota\", x)"
   ]
  },
  {
   "cell_type": "code",
   "execution_count": 47,
   "id": "1147fa64-1732-45bf-9faf-443954b88f72",
   "metadata": {},
   "outputs": [
    {
     "name": "stdout",
     "output_type": "stream",
     "text": [
      "Aprovado com nota: 6.0\n"
     ]
    }
   ],
   "source": [
    "resultado(x)"
   ]
  },
  {
   "cell_type": "code",
   "execution_count": 48,
   "id": "0f96499e-4eea-4b9e-a946-a87a045415f2",
   "metadata": {},
   "outputs": [],
   "source": [
    "#variável global\n",
    "var_global = 10\n",
    "def multiplica (n1, n2):\n",
    "    var_global = n1 * n2\n",
    "    return var_global"
   ]
  },
  {
   "cell_type": "code",
   "execution_count": 49,
   "id": "e897e2e5-2e6b-4010-aa0d-b011e8aff499",
   "metadata": {},
   "outputs": [
    {
     "data": {
      "text/plain": [
       "15"
      ]
     },
     "execution_count": 49,
     "metadata": {},
     "output_type": "execute_result"
    }
   ],
   "source": [
    "multiplica(3,5)"
   ]
  },
  {
   "cell_type": "code",
   "execution_count": 50,
   "id": "9e754478-08fb-45a0-ae5f-63d229d4e8bf",
   "metadata": {},
   "outputs": [
    {
     "data": {
      "text/plain": [
       "10"
      ]
     },
     "execution_count": 50,
     "metadata": {},
     "output_type": "execute_result"
    }
   ],
   "source": [
    "var_global"
   ]
  },
  {
   "cell_type": "code",
   "execution_count": 51,
   "id": "0d7c9e30-d961-4903-b297-10fdfa14b430",
   "metadata": {},
   "outputs": [],
   "source": [
    "#variável local\n",
    "var_global = 10\n",
    "def divide(n1, n2):\n",
    "    var_local = n1/n2\n",
    "    return var_local"
   ]
  },
  {
   "cell_type": "code",
   "execution_count": 52,
   "id": "29039686-e88f-486d-bc86-258e8b47e410",
   "metadata": {},
   "outputs": [
    {
     "data": {
      "text/plain": [
       "34.0"
      ]
     },
     "execution_count": 52,
     "metadata": {},
     "output_type": "execute_result"
    }
   ],
   "source": [
    "divide(102, 3)"
   ]
  },
  {
   "cell_type": "code",
   "execution_count": null,
   "id": "2f35a935-0f3a-4c2e-9de0-b151cfa244ad",
   "metadata": {},
   "outputs": [],
   "source": [
    "var_local"
   ]
  }
 ],
 "metadata": {
  "kernelspec": {
   "display_name": "Python 3 (ipykernel)",
   "language": "python",
   "name": "python3"
  },
  "language_info": {
   "codemirror_mode": {
    "name": "ipython",
    "version": 3
   },
   "file_extension": ".py",
   "mimetype": "text/x-python",
   "name": "python",
   "nbconvert_exporter": "python",
   "pygments_lexer": "ipython3",
   "version": "3.13.2"
  }
 },
 "nbformat": 4,
 "nbformat_minor": 5
}
