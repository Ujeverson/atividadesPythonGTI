{
 "cells": [
  {
   "cell_type": "markdown",
   "id": "9866b99d-02ad-4778-bc0b-06bebb54dc2a",
   "metadata": {},
   "source": [
    "## Atividade 1 - Identificando Tipos de Dados\n",
    "### Objetivo: Compreender os diferentes tipos de dados em Python.\n",
    "### Instrução: Observe o código abaixo e preencha a tabela com o tipo de cada dado antes de executar no Python."
   ]
  },
  {
   "cell_type": "code",
   "execution_count": 1,
   "id": "6be72d1e-3be2-41d0-8aac-63735441ed67",
   "metadata": {},
   "outputs": [
    {
     "name": "stdout",
     "output_type": "stream",
     "text": [
      "<class 'int'>\n"
     ]
    }
   ],
   "source": [
    "print(type(10))"
   ]
  },
  {
   "cell_type": "code",
   "execution_count": 2,
   "id": "83f9fb6e-8904-4334-9b4f-cc47e6eeaf8d",
   "metadata": {},
   "outputs": [
    {
     "name": "stdout",
     "output_type": "stream",
     "text": [
      "<class 'float'>\n"
     ]
    }
   ],
   "source": [
    "print(type(3.14))"
   ]
  },
  {
   "cell_type": "code",
   "execution_count": 3,
   "id": "0a4f1591-bc57-48e0-a8b8-8fcaa221f89b",
   "metadata": {},
   "outputs": [
    {
     "name": "stdout",
     "output_type": "stream",
     "text": [
      "<class 'bool'>\n"
     ]
    }
   ],
   "source": [
    "print(type(False))"
   ]
  },
  {
   "cell_type": "code",
   "execution_count": 4,
   "id": "3517def9-4117-4ce8-ac5d-775fe39975f1",
   "metadata": {},
   "outputs": [
    {
     "data": {
      "text/plain": [
       "str"
      ]
     },
     "execution_count": 4,
     "metadata": {},
     "output_type": "execute_result"
    }
   ],
   "source": [
    "type(\"Texto\")"
   ]
  },
  {
   "cell_type": "markdown",
   "id": "d5b4cd99-a822-4347-8eb9-244296232a36",
   "metadata": {},
   "source": [
    "## Parte 2: Entrada e Saída de Dados\n",
    "<p>\n",
    "### Atividade 2 - Lendo e Exibindo Dados \\n\n",
    "### Objetivo: Praticar a entrada (input( )) e saída (print( )) de dados. \\n\n",
    "### Instrução: Complete o código abaixo e execute no Python. \\n\n",
    "</p>\n"
   ]
  },
  {
   "cell_type": "code",
   "execution_count": 6,
   "id": "11e73c86-aa32-45c6-a214-aac5be3dd20f",
   "metadata": {},
   "outputs": [
    {
     "name": "stdout",
     "output_type": "stream",
     "text": [
      "Selecione a operação:\n",
      "1 - Soma\n",
      "2 - Subtração\n",
      "3 - Multiplicação\n",
      "4 - Divisão\n"
     ]
    },
    {
     "name": "stdin",
     "output_type": "stream",
     "text": [
      "Digite a sua escolha (1/2/3/4): 4\n",
      "Digite o primeiro número: 8\n",
      "Digite o segundo número: 0\n"
     ]
    },
    {
     "ename": "ZeroDivisionError",
     "evalue": "division by zero",
     "output_type": "error",
     "traceback": [
      "\u001b[1;31m---------------------------------------------------------------------------\u001b[0m",
      "\u001b[1;31mZeroDivisionError\u001b[0m                         Traceback (most recent call last)",
      "Cell \u001b[1;32mIn[6], line 37\u001b[0m\n\u001b[0;32m     34\u001b[0m     \u001b[38;5;28mprint\u001b[39m(num1, \u001b[38;5;124m\"\u001b[39m\u001b[38;5;124m*\u001b[39m\u001b[38;5;124m\"\u001b[39m, num2, \u001b[38;5;124m\"\u001b[39m\u001b[38;5;124m=\u001b[39m\u001b[38;5;124m\"\u001b[39m, multiplicacao(num1, num2))\n\u001b[0;32m     36\u001b[0m \u001b[38;5;28;01melif\u001b[39;00m escolha \u001b[38;5;241m==\u001b[39m \u001b[38;5;124m'\u001b[39m\u001b[38;5;124m4\u001b[39m\u001b[38;5;124m'\u001b[39m:\n\u001b[1;32m---> 37\u001b[0m     \u001b[38;5;28mprint\u001b[39m(num1, \u001b[38;5;124m\"\u001b[39m\u001b[38;5;124m/\u001b[39m\u001b[38;5;124m\"\u001b[39m, num2, \u001b[38;5;124m\"\u001b[39m\u001b[38;5;124m=\u001b[39m\u001b[38;5;124m\"\u001b[39m, \u001b[43mdivisao\u001b[49m\u001b[43m(\u001b[49m\u001b[43mnum1\u001b[49m\u001b[43m,\u001b[49m\u001b[43m \u001b[49m\u001b[43mnum2\u001b[49m\u001b[43m)\u001b[49m)\n\u001b[0;32m     38\u001b[0m     \u001b[38;5;66;03m#verifica se o segundo número é zero\u001b[39;00m\n\u001b[0;32m     39\u001b[0m     \u001b[38;5;28;01mif\u001b[39;00m num2 \u001b[38;5;241m==\u001b[39m \u001b[38;5;241m0\u001b[39m:\n",
      "Cell \u001b[1;32mIn[6], line 13\u001b[0m, in \u001b[0;36mdivisao\u001b[1;34m(x, y)\u001b[0m\n\u001b[0;32m     12\u001b[0m \u001b[38;5;28;01mdef\u001b[39;00m \u001b[38;5;21mdivisao\u001b[39m(x, y):\n\u001b[1;32m---> 13\u001b[0m     \u001b[38;5;28;01mreturn\u001b[39;00m \u001b[43mx\u001b[49m\u001b[43m \u001b[49m\u001b[38;5;241;43m/\u001b[39;49m\u001b[43m \u001b[49m\u001b[43my\u001b[49m\n",
      "\u001b[1;31mZeroDivisionError\u001b[0m: division by zero"
     ]
    }
   ],
   "source": [
    "#código para uma calculadora com as operações básicas\n",
    "\n",
    "def soma(x, y):\n",
    "    return x + y\n",
    "\n",
    "def subtracao(x, y):\n",
    "    return x - y\n",
    "\n",
    "def multiplicacao(x, y):\n",
    "    return x * y\n",
    "\n",
    "def divisao(x, y):\n",
    "    return x / y\n",
    "\n",
    "#script para input dos valores e operação, e verificar o zero para a divisão\n",
    "print(\"Selecione a operação:\")\n",
    "print(\"1 - Soma\")\n",
    "print(\"2 - Subtração\")\n",
    "print(\"3 - Multiplicação\")\n",
    "print(\"4 - Divisão\")\n",
    "\n",
    "escolha = input(\"Digite a sua escolha (1/2/3/4):\")\n",
    "\n",
    "num1 = int(input(\"Digite o primeiro número:\"))\n",
    "num2 = int(input(\"Digite o segundo número:\"))\n",
    "\n",
    "if escolha == '1':\n",
    "    print(num1, \"+\", num2, \"=\", soma(num1, num2))\n",
    "    \n",
    "elif escolha == '2':\n",
    "    print(num1, \"-\", num2, \"=\", subtracao(num1, num2))\n",
    "    \n",
    "elif escolha == '3':\n",
    "    print(num1, \"*\", num2, \"=\", multiplicacao(num1, num2))\n",
    "    \n",
    "elif escolha == '4':\n",
    "    print(num1, \"/\", num2, \"=\", divisao(num1, num2))\n",
    "    #verifica se o segundo número é zero\n",
    "    if num2 == 0:\n",
    "        print(\"Não é possível dividir por zero\")\n",
    "    else:\n",
    "        print(num1, \"/\", num2, \"=\", divisao(num1, num2))\n",
    "    \n",
    "else:\n",
    "    print(\"Opção inválida\") "
   ]
  },
  {
   "cell_type": "code",
   "execution_count": null,
   "id": "5ed86f1a-2e13-4d84-9bee-219a276ff794",
   "metadata": {},
   "outputs": [],
   "source": []
  }
 ],
 "metadata": {
  "kernelspec": {
   "display_name": "Python 3 (ipykernel)",
   "language": "python",
   "name": "python3"
  },
  "language_info": {
   "codemirror_mode": {
    "name": "ipython",
    "version": 3
   },
   "file_extension": ".py",
   "mimetype": "text/x-python",
   "name": "python",
   "nbconvert_exporter": "python",
   "pygments_lexer": "ipython3",
   "version": "3.12.6"
  },
  "widgets": {
   "application/vnd.jupyter.widget-state+json": {
    "state": {},
    "version_major": 2,
    "version_minor": 0
   }
  }
 },
 "nbformat": 4,
 "nbformat_minor": 5
}
